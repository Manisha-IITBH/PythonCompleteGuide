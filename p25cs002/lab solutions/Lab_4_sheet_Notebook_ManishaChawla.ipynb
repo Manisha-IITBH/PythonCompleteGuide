{
  "cells": [
    {
      "cell_type": "markdown",
      "source": [
        "## Name Manisha Chawla\n",
        "\n",
        "## ID P25CS002\n",
        "\n",
        "## TPL616 Advanced Programming for DSAI\n",
        "\n",
        "##  Lab-4 Practice Problems (Pandas)"
      ],
      "metadata": {
        "id": "6tpxPetWQnKP"
      }
    },
    {
      "cell_type": "markdown",
      "source": [
        "# Part 1"
      ],
      "metadata": {
        "id": "ySXlgFpvQqel"
      }
    },
    {
      "cell_type": "markdown",
      "metadata": {
        "id": "TSzR8pbu-MxE"
      },
      "source": [
        "The file \"Purchase_Data.csv\" contains purchase data at a Chinese supermarket for various products.  Read this csv into a dataframe called df_data and use the head() method to check that you have read in the data correctly. Make sure you import pandas."
      ]
    },
    {
      "cell_type": "code",
      "execution_count": null,
      "metadata": {
        "colab": {
          "base_uri": "https://localhost:8080/"
        },
        "id": "inhLrXxC-MxE",
        "outputId": "c4d42600-230a-4284-d7ce-50916ae05c1a"
      },
      "outputs": [
        {
          "output_type": "stream",
          "name": "stdout",
          "text": [
            "   invoice_number   invoice_time store_id  product_id  category_id  num_item  \\\n",
            "0    2.020000e+11  7/15/15 10:45     G816     7000300       210101       1.0   \n",
            "1    2.020000e+11  7/15/15 12:16     G816     7070884        70203       1.0   \n",
            "2    2.020000e+11  7/15/15 12:16     G816     7070884        70203       1.0   \n",
            "3    2.020000e+11  7/15/15 12:16     G816     7070891        70401       1.0   \n",
            "4    2.020000e+11  7/15/15 12:16     G816     7090363        70401       1.0   \n",
            "\n",
            "   price  \n",
            "0    2.0  \n",
            "1    2.0  \n",
            "2    2.0  \n",
            "3    6.0  \n",
            "4    6.0  \n"
          ]
        }
      ],
      "source": [
        "#Write your code here\n",
        "import pandas as pd\n",
        "df_data = pd.read_csv('Purchase_Data.csv')\n",
        "print(df_data.head())\n",
        "\n"
      ]
    },
    {
      "cell_type": "markdown",
      "metadata": {
        "id": "Wc8TjCrf-MxG"
      },
      "source": [
        "Use the dtypes attribute to view how each column is stored"
      ]
    },
    {
      "cell_type": "code",
      "execution_count": null,
      "metadata": {
        "colab": {
          "base_uri": "https://localhost:8080/"
        },
        "id": "7ipYA4I5-MxG",
        "outputId": "ffea379b-3a8a-4673-a20b-09edce91a607"
      },
      "outputs": [
        {
          "output_type": "stream",
          "name": "stdout",
          "text": [
            "invoice_number    float64\n",
            "invoice_time       object\n",
            "store_id           object\n",
            "product_id          int64\n",
            "category_id         int64\n",
            "num_item          float64\n",
            "price             float64\n",
            "dtype: object\n"
          ]
        }
      ],
      "source": [
        "#Write your code here\n",
        "print(df_data.dtypes)"
      ]
    },
    {
      "cell_type": "markdown",
      "metadata": {
        "id": "cOBvNJkI-MxG"
      },
      "source": [
        "Slice the first two columns using .loc and store the result in a variable called result_1."
      ]
    },
    {
      "cell_type": "code",
      "execution_count": null,
      "metadata": {
        "colab": {
          "base_uri": "https://localhost:8080/"
        },
        "id": "5V5zVI4H-MxG",
        "outputId": "911f0aa1-756e-459e-d905-1f9db3ee6e15"
      },
      "outputs": [
        {
          "output_type": "stream",
          "name": "stdout",
          "text": [
            "      invoice_number   invoice_time\n",
            "0       2.020000e+11  7/15/15 10:45\n",
            "1       2.020000e+11  7/15/15 12:16\n",
            "2       2.020000e+11  7/15/15 12:16\n",
            "3       2.020000e+11  7/15/15 12:16\n",
            "4       2.020000e+11  7/15/15 12:16\n",
            "...              ...            ...\n",
            "5377    2.020000e+11   9/5/15 23:07\n",
            "5378    2.020000e+11   9/5/15 23:23\n",
            "5379    2.020000e+11   9/5/15 23:24\n",
            "5380    2.020000e+11   9/5/15 23:32\n",
            "5381    2.020000e+11   9/5/15 23:38\n",
            "\n",
            "[5382 rows x 2 columns]\n"
          ]
        }
      ],
      "source": [
        "#Write you code here\n",
        "result_1 = df_data.loc[:, df_data.columns[:2]]\n",
        "print(result_1)"
      ]
    },
    {
      "cell_type": "markdown",
      "metadata": {
        "id": "WAs2XTfX-MxG"
      },
      "source": [
        "Slice the first two rows using .loc and store the result in a variable called result_2."
      ]
    },
    {
      "cell_type": "code",
      "execution_count": null,
      "metadata": {
        "id": "aK0ULYwh-MxH"
      },
      "outputs": [],
      "source": [
        "#Write you code here\n",
        "result_1 = df_data.loc[:, df_data.columns[:2]]"
      ]
    },
    {
      "cell_type": "markdown",
      "metadata": {
        "id": "o-HLIkBJ-MxH"
      },
      "source": [
        "Slice the first four rows and the first five columns and store the result in a variable called result_3."
      ]
    },
    {
      "cell_type": "code",
      "execution_count": null,
      "metadata": {
        "colab": {
          "base_uri": "https://localhost:8080/"
        },
        "id": "psEr3YG4-MxH",
        "outputId": "1cead2ab-3fb4-44af-88c7-d314fe682337"
      },
      "outputs": [
        {
          "output_type": "stream",
          "name": "stdout",
          "text": [
            "   invoice_number   invoice_time store_id  product_id  category_id  num_item  \\\n",
            "0    2.020000e+11  7/15/15 10:45     G816     7000300       210101       1.0   \n",
            "1    2.020000e+11  7/15/15 12:16     G816     7070884        70203       1.0   \n",
            "\n",
            "   price  \n",
            "0    2.0  \n",
            "1    2.0  \n"
          ]
        }
      ],
      "source": [
        "#Write your code here\n",
        "result_2 = df_data.loc[0:1, :]\n",
        "print(result_2)"
      ]
    },
    {
      "cell_type": "markdown",
      "metadata": {
        "id": "9JPoZJeh-MxH"
      },
      "source": [
        "Slice rows 0,4,6 and columns invoice time and price and store the result in variable called result_4."
      ]
    },
    {
      "cell_type": "code",
      "execution_count": null,
      "metadata": {
        "colab": {
          "base_uri": "https://localhost:8080/"
        },
        "id": "VQ9dsvvT-MxI",
        "outputId": "487a2853-593e-484c-e9a2-dad4e3e35527"
      },
      "outputs": [
        {
          "output_type": "stream",
          "name": "stdout",
          "text": [
            "    invoice_time  price\n",
            "0  7/15/15 10:45    2.0\n",
            "4  7/15/15 12:16    6.0\n",
            "6  7/15/15 15:28    2.0\n"
          ]
        }
      ],
      "source": [
        "#Write your code here\n",
        "result_4 = df_data.loc[[0, 4, 6], ['invoice_time', 'price']]\n",
        "print(result_4)\n"
      ]
    },
    {
      "cell_type": "markdown",
      "metadata": {
        "id": "A746MMMb-MxI"
      },
      "source": [
        "Store the number rows in a variable called num_rows."
      ]
    },
    {
      "cell_type": "code",
      "execution_count": null,
      "metadata": {
        "colab": {
          "base_uri": "https://localhost:8080/"
        },
        "id": "-171ozyJ-MxI",
        "outputId": "1074748f-2321-481b-c6f1-e21850b82a84"
      },
      "outputs": [
        {
          "output_type": "stream",
          "name": "stdout",
          "text": [
            "5382\n"
          ]
        }
      ],
      "source": [
        "num_rows = df_data.shape[0]\n",
        "print(num_rows)\n"
      ]
    },
    {
      "cell_type": "markdown",
      "metadata": {
        "id": "cvLmJ_w_-MxI"
      },
      "source": [
        "Print out the last row of the data to dataframe. **Hint:** use the variable num_rows from the previous exercise."
      ]
    },
    {
      "cell_type": "code",
      "execution_count": null,
      "metadata": {
        "colab": {
          "base_uri": "https://localhost:8080/"
        },
        "id": "3wOPVoE0-MxI",
        "outputId": "3f91bb88-8454-4a5e-9c1a-fd101aa52cda"
      },
      "outputs": [
        {
          "output_type": "stream",
          "name": "stdout",
          "text": [
            "invoice_number    202000000000.0\n",
            "invoice_time        9/5/15 23:38\n",
            "store_id                    G619\n",
            "product_id              23030206\n",
            "category_id               210101\n",
            "num_item                     1.0\n",
            "price                        2.0\n",
            "Name: 5381, dtype: object\n"
          ]
        }
      ],
      "source": [
        "#Write your code here\n",
        "print(df_data.loc[num_rows - 1])\n"
      ]
    },
    {
      "cell_type": "markdown",
      "metadata": {
        "id": "OuUdnIFj-MxI"
      },
      "source": [
        "# Part 2"
      ]
    },
    {
      "cell_type": "markdown",
      "metadata": {
        "id": "mzZMq5ZL-MxJ"
      },
      "source": [
        "Compute the average and max price charged.  Store the results in variables called avg_price and max_price"
      ]
    },
    {
      "cell_type": "code",
      "execution_count": null,
      "metadata": {
        "colab": {
          "base_uri": "https://localhost:8080/"
        },
        "id": "TiVq6NSW-MxJ",
        "outputId": "8609a54b-ac41-4ce4-b88f-007f623aca39"
      },
      "outputs": [
        {
          "output_type": "stream",
          "name": "stdout",
          "text": [
            "Average Price: 3.1920522110741363\n",
            "Maximum Price: 6.01\n"
          ]
        }
      ],
      "source": [
        "#Write your code here\n",
        "\n",
        "avg_price = df_data['price'].mean()\n",
        "max_price = df_data['price'].max()\n",
        "print(\"Average Price:\", avg_price)\n",
        "print(\"Maximum Price:\", max_price)\n"
      ]
    },
    {
      "cell_type": "markdown",
      "metadata": {
        "id": "p57M4cTw-MxJ"
      },
      "source": [
        "Compute the average price and average number of items purchased with only a single call to the mean() method. Store these averages in avg_price and avg_num_items."
      ]
    },
    {
      "cell_type": "code",
      "execution_count": null,
      "metadata": {
        "colab": {
          "base_uri": "https://localhost:8080/"
        },
        "id": "ILhocf1h-MxJ",
        "outputId": "522916dc-f807-47b0-841e-937f7b106420"
      },
      "outputs": [
        {
          "output_type": "stream",
          "name": "stdout",
          "text": [
            "Average Price: 3.1920522110741363\n",
            "Average Number of Items: 1.2983091787439613\n"
          ]
        }
      ],
      "source": [
        "#Write you code here\n",
        "avg_values = df_data[['price', 'num_item']].mean()\n",
        "avg_price = avg_values['price']\n",
        "avg_num_items = avg_values['num_item']\n",
        "print(\"Average Price:\", avg_price)\n",
        "print(\"Average Number of Items:\", avg_num_items)\n"
      ]
    },
    {
      "cell_type": "markdown",
      "metadata": {
        "id": "dpDNKwa--MxJ"
      },
      "source": [
        "Create a column called \"total\", which is the product of the price and num_item columns."
      ]
    },
    {
      "cell_type": "code",
      "execution_count": null,
      "metadata": {
        "colab": {
          "base_uri": "https://localhost:8080/"
        },
        "id": "UQyRtdia-MxJ",
        "outputId": "44255e3c-a0bf-4b05-cbfa-2295164bd2c7"
      },
      "outputs": [
        {
          "output_type": "stream",
          "name": "stdout",
          "text": [
            "   invoice_number   invoice_time store_id  product_id  category_id  num_item  \\\n",
            "0    2.020000e+11  7/15/15 10:45     G816     7000300       210101       1.0   \n",
            "1    2.020000e+11  7/15/15 12:16     G816     7070884        70203       1.0   \n",
            "2    2.020000e+11  7/15/15 12:16     G816     7070884        70203       1.0   \n",
            "3    2.020000e+11  7/15/15 12:16     G816     7070891        70401       1.0   \n",
            "4    2.020000e+11  7/15/15 12:16     G816     7090363        70401       1.0   \n",
            "\n",
            "   price  total  \n",
            "0    2.0    2.0  \n",
            "1    2.0    2.0  \n",
            "2    2.0    2.0  \n",
            "3    6.0    6.0  \n",
            "4    6.0    6.0  \n"
          ]
        }
      ],
      "source": [
        "#Write your code here\n",
        "df_data['total'] = df_data['price'] * df_data['num_item']\n",
        "print(df_data.head())\n"
      ]
    },
    {
      "cell_type": "markdown",
      "metadata": {
        "id": "3ZcX_V3K-MxK"
      },
      "source": [
        "What is the avgerage price of the three most expensive purchases?"
      ]
    },
    {
      "cell_type": "code",
      "execution_count": null,
      "metadata": {
        "colab": {
          "base_uri": "https://localhost:8080/"
        },
        "id": "M7632PG9-MxK",
        "outputId": "b80d3f91-632d-4094-f4c8-2dc4d91992aa"
      },
      "outputs": [
        {
          "output_type": "stream",
          "name": "stdout",
          "text": [
            "Average price of the three most expensive purchases: 6.003333333333333\n"
          ]
        }
      ],
      "source": [
        "#Write your code here\n",
        "avg_price = df_data['price'].sort_values(ascending=False).head(3).mean()\n",
        "print(\"Average price of the three most expensive purchases:\", avg_price)"
      ]
    },
    {
      "cell_type": "markdown",
      "metadata": {
        "id": "v9N_cDDT-MxK"
      },
      "source": [
        "How many different products are there?"
      ]
    },
    {
      "cell_type": "code",
      "execution_count": null,
      "metadata": {
        "colab": {
          "base_uri": "https://localhost:8080/"
        },
        "id": "4ktk-Lf5-MxK",
        "outputId": "8b19fe1c-48ac-48d0-9b14-4535172b3724"
      },
      "outputs": [
        {
          "output_type": "stream",
          "name": "stdout",
          "text": [
            "Number of different products: 53\n"
          ]
        }
      ],
      "source": [
        "#Write your code here\n",
        "num_products = df_data['product_id'].nunique()\n",
        "print(\"Number of different products:\", num_products)"
      ]
    },
    {
      "cell_type": "markdown",
      "metadata": {
        "id": "xi5Vuq_i-MxK"
      },
      "source": [
        "Find the difference between the mean and median of the column total.  Use the describe() method and then index the dataframe it returns."
      ]
    },
    {
      "cell_type": "code",
      "execution_count": null,
      "metadata": {
        "colab": {
          "base_uri": "https://localhost:8080/"
        },
        "id": "41Xbb_se-MxK",
        "outputId": "1b081d30-c4e8-4f5d-b5bf-4de0302757a2"
      },
      "outputs": [
        {
          "output_type": "stream",
          "name": "stdout",
          "text": [
            "Difference between mean and median: 0.9318078781127839\n"
          ]
        }
      ],
      "source": [
        "#Write your code here\n",
        "summary = df_data['total'].describe()\n",
        "summary_mean = summary['mean']\n",
        "summary_median = summary['50%']\n",
        "difference = summary_mean - summary_median\n",
        "print(\"Difference between mean and median:\", difference)\n"
      ]
    },
    {
      "cell_type": "markdown",
      "metadata": {
        "id": "A3j8yyAP-MxK"
      },
      "source": [
        "Use the drop() method to delete the column total from the dataframe df_data."
      ]
    },
    {
      "cell_type": "code",
      "execution_count": null,
      "metadata": {
        "colab": {
          "base_uri": "https://localhost:8080/"
        },
        "id": "imnLsalJ-MxK",
        "outputId": "c077f08a-874d-43af-887d-c7ad6b68253d"
      },
      "outputs": [
        {
          "output_type": "stream",
          "name": "stdout",
          "text": [
            "   invoice_number   invoice_time store_id  product_id  category_id  num_item  \\\n",
            "0    2.020000e+11  7/15/15 10:45     G816     7000300       210101       1.0   \n",
            "1    2.020000e+11  7/15/15 12:16     G816     7070884        70203       1.0   \n",
            "2    2.020000e+11  7/15/15 12:16     G816     7070884        70203       1.0   \n",
            "3    2.020000e+11  7/15/15 12:16     G816     7070891        70401       1.0   \n",
            "4    2.020000e+11  7/15/15 12:16     G816     7090363        70401       1.0   \n",
            "\n",
            "   price  \n",
            "0    2.0  \n",
            "1    2.0  \n",
            "2    2.0  \n",
            "3    6.0  \n",
            "4    6.0  \n"
          ]
        }
      ],
      "source": [
        "#Write your code here\n",
        "df_data = df_data.drop(columns=['total'])\n",
        "print(df_data.head())"
      ]
    },
    {
      "cell_type": "markdown",
      "metadata": {
        "id": "KRmxXUPQ-MxK"
      },
      "source": [
        "Let's dig a little deeper into the data set and answer some basic question."
      ]
    },
    {
      "cell_type": "markdown",
      "metadata": {
        "id": "3KQ9W4-K-MxL"
      },
      "source": [
        "First, covert the column invoice time to a datetime column. Print out the new column types to make sure this was done correctly"
      ]
    },
    {
      "cell_type": "code",
      "execution_count": null,
      "metadata": {
        "colab": {
          "base_uri": "https://localhost:8080/"
        },
        "id": "EOrqhGmq-MxL",
        "outputId": "0aaeadf3-0d9c-4e3a-d9a4-53487725d17a"
      },
      "outputs": [
        {
          "output_type": "stream",
          "name": "stderr",
          "text": [
            "/tmp/ipython-input-3694265117.py:2: UserWarning: Could not infer format, so each element will be parsed individually, falling back to `dateutil`. To ensure parsing is consistent and as-expected, please specify a format.\n",
            "  df_data['invoice_time'] = pd.to_datetime(df_data['invoice_time'])\n"
          ]
        },
        {
          "output_type": "stream",
          "name": "stdout",
          "text": [
            "invoice_number           float64\n",
            "invoice_time      datetime64[ns]\n",
            "store_id                  object\n",
            "product_id                 int64\n",
            "category_id                int64\n",
            "num_item                 float64\n",
            "price                    float64\n",
            "dtype: object\n"
          ]
        }
      ],
      "source": [
        "#Write your code here\n",
        "df_data['invoice_time'] = pd.to_datetime(df_data['invoice_time'])\n",
        "print(df_data.dtypes)"
      ]
    },
    {
      "cell_type": "markdown",
      "metadata": {
        "id": "Qql85xFz-MxL"
      },
      "source": [
        "Next, let's create columns called \"DOW\" and \"Month\", which store the corresponding weekday and month of the invoice respectively.  Print the head of the dataframe to make sure this was done correctly."
      ]
    },
    {
      "cell_type": "code",
      "execution_count": null,
      "metadata": {
        "colab": {
          "base_uri": "https://localhost:8080/"
        },
        "id": "vJN2L031-MxL",
        "outputId": "b3ef1eb7-e079-46bd-d289-3333289d52cf"
      },
      "outputs": [
        {
          "output_type": "stream",
          "name": "stdout",
          "text": [
            "   invoice_number        invoice_time store_id  product_id  category_id  \\\n",
            "0    2.020000e+11 2015-07-15 10:45:00     G816     7000300       210101   \n",
            "1    2.020000e+11 2015-07-15 12:16:00     G816     7070884        70203   \n",
            "2    2.020000e+11 2015-07-15 12:16:00     G816     7070884        70203   \n",
            "3    2.020000e+11 2015-07-15 12:16:00     G816     7070891        70401   \n",
            "4    2.020000e+11 2015-07-15 12:16:00     G816     7090363        70401   \n",
            "\n",
            "   num_item  price  DOW  Month  \n",
            "0       1.0    2.0    2      7  \n",
            "1       1.0    2.0    2      7  \n",
            "2       1.0    2.0    2      7  \n",
            "3       1.0    6.0    2      7  \n",
            "4       1.0    6.0    2      7  \n"
          ]
        }
      ],
      "source": [
        "#Write your code here\n",
        "df_data['DOW'] = df_data['invoice_time'].dt.dayofweek\n",
        "df_data['Month'] = df_data['invoice_time'].dt.month\n",
        "print(df_data.head())"
      ]
    },
    {
      "cell_type": "markdown",
      "metadata": {
        "id": "bbxf8Inz-MxM"
      },
      "source": [
        "Create a variable called num_purchases_wed, which stores the number of purchases made on Wednesday?  You should use value_counts and then index the series it return."
      ]
    },
    {
      "cell_type": "code",
      "execution_count": null,
      "metadata": {
        "colab": {
          "base_uri": "https://localhost:8080/"
        },
        "id": "KA6LS7Nx-MxW",
        "outputId": "ccb66891-c848-44d5-86ca-eb5a0313e0f6"
      },
      "outputs": [
        {
          "output_type": "stream",
          "name": "stdout",
          "text": [
            "Number of purchases made on Wednesday: 959\n"
          ]
        }
      ],
      "source": [
        "#Write your code here\n",
        "num_purchases_wed = df_data['DOW'].value_counts()[2]\n",
        "print(\"Number of purchases made on Wednesday:\", num_purchases_wed)\n"
      ]
    },
    {
      "cell_type": "markdown",
      "metadata": {
        "id": "s069yG_u-MxW"
      },
      "source": [
        "# Part 3"
      ]
    },
    {
      "cell_type": "markdown",
      "metadata": {
        "id": "ygAL3ghu-MxW"
      },
      "source": [
        "In this set of practice exercises, we will be working with a demographic data regarding the passengers aboard the Titanic.  Read in the data frame and use the head() method to check that it was read in correctly."
      ]
    },
    {
      "cell_type": "code",
      "execution_count": null,
      "metadata": {
        "colab": {
          "base_uri": "https://localhost:8080/"
        },
        "id": "QlNzBVzH-MxW",
        "outputId": "09a7c672-4b19-4d44-9cbd-97cb64604884"
      },
      "outputs": [
        {
          "output_type": "stream",
          "name": "stdout",
          "text": [
            "   PassengerId  Pclass                                          Name     Sex  \\\n",
            "0          892       3                              Kelly, Mr. James    male   \n",
            "1          893       3              Wilkes, Mrs. James (Ellen Needs)  female   \n",
            "2          894       2                     Myles, Mr. Thomas Francis    male   \n",
            "3          895       3                              Wirz, Mr. Albert    male   \n",
            "4          896       3  Hirvonen, Mrs. Alexander (Helga E Lindqvist)  female   \n",
            "\n",
            "    Age  SibSp  Parch   Ticket     Fare Cabin Embarked  \n",
            "0  34.5      0      0   330911   7.8292   NaN        Q  \n",
            "1  47.0      1      0   363272   7.0000   NaN        S  \n",
            "2  62.0      0      0   240276   9.6875   NaN        Q  \n",
            "3  27.0      0      0   315154   8.6625   NaN        S  \n",
            "4  22.0      1      1  3101298  12.2875   NaN        S  \n"
          ]
        }
      ],
      "source": [
        "df_titanic =  pd.read_csv('Titanic.csv')\n",
        "print(df_titanic.head())"
      ]
    },
    {
      "cell_type": "markdown",
      "metadata": {
        "id": "VxinVt4y-MxW"
      },
      "source": [
        "Use the rename method to change the column \"Name\" to \"Passenger_Name\" and the column \"Ticket\" to \"Ticket_Num\"."
      ]
    },
    {
      "cell_type": "code",
      "execution_count": null,
      "metadata": {
        "colab": {
          "base_uri": "https://localhost:8080/"
        },
        "id": "hosLqT6u-MxX",
        "outputId": "a5c68eda-58a4-4096-b396-2033e13888fa"
      },
      "outputs": [
        {
          "output_type": "stream",
          "name": "stdout",
          "text": [
            "   PassengerId  Pclass                                Passenger_Name     Sex  \\\n",
            "0          892       3                              Kelly, Mr. James    male   \n",
            "1          893       3              Wilkes, Mrs. James (Ellen Needs)  female   \n",
            "2          894       2                     Myles, Mr. Thomas Francis    male   \n",
            "3          895       3                              Wirz, Mr. Albert    male   \n",
            "4          896       3  Hirvonen, Mrs. Alexander (Helga E Lindqvist)  female   \n",
            "\n",
            "    Age  SibSp  Parch Ticket_Num     Fare Cabin Embarked  \n",
            "0  34.5      0      0     330911   7.8292   NaN        Q  \n",
            "1  47.0      1      0     363272   7.0000   NaN        S  \n",
            "2  62.0      0      0     240276   9.6875   NaN        Q  \n",
            "3  27.0      0      0     315154   8.6625   NaN        S  \n",
            "4  22.0      1      1    3101298  12.2875   NaN        S  \n"
          ]
        }
      ],
      "source": [
        "#Write your code here\n",
        "df_titanic = df_titanic.rename(columns={\n",
        "    'Name': 'Passenger_Name',\n",
        "    'Ticket': 'Ticket_Num'\n",
        "})\n",
        "print(df_titanic.head())"
      ]
    },
    {
      "cell_type": "markdown",
      "metadata": {
        "id": "XW11I4nr-MxX"
      },
      "source": [
        "Change the index of the df_titanic to the column PasengerID."
      ]
    },
    {
      "cell_type": "code",
      "execution_count": null,
      "metadata": {
        "scrolled": true,
        "colab": {
          "base_uri": "https://localhost:8080/"
        },
        "id": "R8t-8en--MxX",
        "outputId": "865fed52-fed9-490b-badb-154620f76e70"
      },
      "outputs": [
        {
          "output_type": "stream",
          "name": "stdout",
          "text": [
            "             Pclass                                Passenger_Name     Sex  \\\n",
            "PassengerId                                                                 \n",
            "892               3                              Kelly, Mr. James    male   \n",
            "893               3              Wilkes, Mrs. James (Ellen Needs)  female   \n",
            "894               2                     Myles, Mr. Thomas Francis    male   \n",
            "895               3                              Wirz, Mr. Albert    male   \n",
            "896               3  Hirvonen, Mrs. Alexander (Helga E Lindqvist)  female   \n",
            "\n",
            "              Age  SibSp  Parch Ticket_Num     Fare Cabin Embarked  \n",
            "PassengerId                                                         \n",
            "892          34.5      0      0     330911   7.8292   NaN        Q  \n",
            "893          47.0      1      0     363272   7.0000   NaN        S  \n",
            "894          62.0      0      0     240276   9.6875   NaN        Q  \n",
            "895          27.0      0      0     315154   8.6625   NaN        S  \n",
            "896          22.0      1      1    3101298  12.2875   NaN        S  \n"
          ]
        }
      ],
      "source": [
        "#Write your code here\n",
        "df_titanic = df_titanic.set_index('PassengerId')\n",
        "print(df_titanic.head())"
      ]
    },
    {
      "cell_type": "markdown",
      "metadata": {
        "id": "AdiaGSQh-MxX"
      },
      "source": [
        "Select the name of passenger 896"
      ]
    },
    {
      "cell_type": "code",
      "execution_count": null,
      "metadata": {
        "colab": {
          "base_uri": "https://localhost:8080/"
        },
        "id": "UQLJMG7p-MxX",
        "outputId": "ee041625-b48d-4299-d281-f038064a22ce"
      },
      "outputs": [
        {
          "output_type": "stream",
          "name": "stdout",
          "text": [
            "Name of passenger 896: Hirvonen, Mrs. Alexander (Helga E Lindqvist)\n"
          ]
        }
      ],
      "source": [
        "#Write your code here\n",
        "passenger_name = df_titanic.loc[896, 'Passenger_Name']\n",
        "print(\"Name of passenger 896:\", passenger_name)"
      ]
    },
    {
      "cell_type": "markdown",
      "metadata": {
        "id": "JbhHbeAa-MxX"
      },
      "source": [
        "Change the index back to row numbers but making sure that we don't lose the PassengerId column."
      ]
    },
    {
      "cell_type": "code",
      "execution_count": null,
      "metadata": {
        "colab": {
          "base_uri": "https://localhost:8080/"
        },
        "id": "LCIalO7C-MxX",
        "outputId": "2f6d06ce-83ce-4b5f-85b6-2a24180507cb"
      },
      "outputs": [
        {
          "output_type": "stream",
          "name": "stdout",
          "text": [
            "   PassengerId  Pclass                                Passenger_Name     Sex  \\\n",
            "0          892       3                              Kelly, Mr. James    male   \n",
            "1          893       3              Wilkes, Mrs. James (Ellen Needs)  female   \n",
            "2          894       2                     Myles, Mr. Thomas Francis    male   \n",
            "3          895       3                              Wirz, Mr. Albert    male   \n",
            "4          896       3  Hirvonen, Mrs. Alexander (Helga E Lindqvist)  female   \n",
            "\n",
            "    Age  SibSp  Parch Ticket_Num     Fare Cabin Embarked  \n",
            "0  34.5      0      0     330911   7.8292   NaN        Q  \n",
            "1  47.0      1      0     363272   7.0000   NaN        S  \n",
            "2  62.0      0      0     240276   9.6875   NaN        Q  \n",
            "3  27.0      0      0     315154   8.6625   NaN        S  \n",
            "4  22.0      1      1    3101298  12.2875   NaN        S  \n"
          ]
        }
      ],
      "source": [
        "#Write your code here\n",
        "df_titanic.reset_index(inplace=True)\n",
        "print(df_titanic.head())"
      ]
    },
    {
      "cell_type": "markdown",
      "metadata": {
        "id": "dJWH3f-6-MxX"
      },
      "source": [
        "How many missing entries are there in the Age column? Use the isnull() method and recall than Booleans are exactly like 1s (True) and 0s (False)."
      ]
    },
    {
      "cell_type": "code",
      "execution_count": null,
      "metadata": {
        "colab": {
          "base_uri": "https://localhost:8080/"
        },
        "id": "EELqdOYZ-MxX",
        "outputId": "982d3887-2866-4d91-8a2d-fa471ada6ba6"
      },
      "outputs": [
        {
          "output_type": "stream",
          "name": "stdout",
          "text": [
            "Number of missing entries in 'Age': 86\n"
          ]
        }
      ],
      "source": [
        "#Write you code here\n",
        "num_missing_age = df_titanic['Age'].isnull().sum()\n",
        "print(\"Number of missing entries in 'Age':\", num_missing_age)"
      ]
    },
    {
      "cell_type": "markdown",
      "metadata": {
        "id": "ECEvfnFA-MxY"
      },
      "source": [
        "Compute the avg age of passengers ignoring the missing data."
      ]
    },
    {
      "cell_type": "code",
      "execution_count": null,
      "metadata": {
        "colab": {
          "base_uri": "https://localhost:8080/"
        },
        "id": "ChEMw2I3-MxY",
        "outputId": "ba8b8982-5800-4a49-d105-ed3e2dcfe235"
      },
      "outputs": [
        {
          "output_type": "stream",
          "name": "stdout",
          "text": [
            "Average age of passengers: 30.272590361445783\n"
          ]
        }
      ],
      "source": [
        "#Write your code here\n",
        "avg_age = df_titanic['Age'].mean()\n",
        "print(\"Average age of passengers:\", avg_age)"
      ]
    },
    {
      "cell_type": "markdown",
      "metadata": {
        "id": "EWD5zsc5-MxY"
      },
      "source": [
        "Using the fillna() method replace the missing values in the Age column with the mean."
      ]
    },
    {
      "cell_type": "code",
      "execution_count": null,
      "metadata": {
        "colab": {
          "base_uri": "https://localhost:8080/"
        },
        "id": "bWyS0EBa-MxY",
        "outputId": "e3ddf101-daea-4437-d54a-4739be367eb0"
      },
      "outputs": [
        {
          "output_type": "stream",
          "name": "stdout",
          "text": [
            "   PassengerId  Pclass                                Passenger_Name     Sex  \\\n",
            "0          892       3                              Kelly, Mr. James    male   \n",
            "1          893       3              Wilkes, Mrs. James (Ellen Needs)  female   \n",
            "2          894       2                     Myles, Mr. Thomas Francis    male   \n",
            "3          895       3                              Wirz, Mr. Albert    male   \n",
            "4          896       3  Hirvonen, Mrs. Alexander (Helga E Lindqvist)  female   \n",
            "\n",
            "    Age  SibSp  Parch Ticket_Num     Fare Cabin Embarked  \n",
            "0  34.5      0      0     330911   7.8292   NaN        Q  \n",
            "1  47.0      1      0     363272   7.0000   NaN        S  \n",
            "2  62.0      0      0     240276   9.6875   NaN        Q  \n",
            "3  27.0      0      0     315154   8.6625   NaN        S  \n",
            "4  22.0      1      1    3101298  12.2875   NaN        S  \n"
          ]
        }
      ],
      "source": [
        "#Write your code here\n",
        "df_titanic['Age'] = df_titanic['Age'].fillna(avg_age)\n",
        "print(df_titanic.head())"
      ]
    },
    {
      "cell_type": "markdown",
      "metadata": {
        "id": "Uk2JdUoa-MxY"
      },
      "source": [
        "What is the average age of the 5 oldest passengers? The reset_index method will be helpful here."
      ]
    },
    {
      "cell_type": "code",
      "execution_count": null,
      "metadata": {
        "colab": {
          "base_uri": "https://localhost:8080/"
        },
        "id": "AtyddCKb-MxY",
        "outputId": "90e93ff1-f65f-4c71-e3fa-e8eb7816ae2c"
      },
      "outputs": [
        {
          "output_type": "stream",
          "name": "stdout",
          "text": [
            "Average age of the 5 oldest passengers: 67.0\n"
          ]
        }
      ],
      "source": [
        "#Write your code here\n",
        "df_sorted = df_titanic.sort_values(by='Age', ascending=False).reset_index(drop=True)\n",
        "avg_age_top5 = df_sorted.loc[0:4, 'Age'].mean()\n",
        "print(\"Average age of the 5 oldest passengers:\", avg_age_top5)"
      ]
    }
  ],
  "metadata": {
    "kernelspec": {
      "display_name": "Python 3",
      "language": "python",
      "name": "python3"
    },
    "language_info": {
      "codemirror_mode": {
        "name": "ipython",
        "version": 3
      },
      "file_extension": ".py",
      "mimetype": "text/x-python",
      "name": "python",
      "nbconvert_exporter": "python",
      "pygments_lexer": "ipython3",
      "version": "3.6.0"
    },
    "toc": {
      "nav_menu": {
        "height": "48px",
        "width": "252px"
      },
      "number_sections": true,
      "sideBar": true,
      "skip_h1_title": false,
      "toc_cell": false,
      "toc_position": {},
      "toc_section_display": "block",
      "toc_window_display": false
    },
    "colab": {
      "provenance": []
    }
  },
  "nbformat": 4,
  "nbformat_minor": 0
}