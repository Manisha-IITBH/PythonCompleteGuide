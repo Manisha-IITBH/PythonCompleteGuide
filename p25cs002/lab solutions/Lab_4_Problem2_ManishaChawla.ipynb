{
  "nbformat": 4,
  "nbformat_minor": 0,
  "metadata": {
    "colab": {
      "provenance": []
    },
    "kernelspec": {
      "name": "python3",
      "display_name": "Python 3"
    },
    "language_info": {
      "name": "python"
    }
  },
  "cells": [
    {
      "cell_type": "markdown",
      "source": [
        "## Name: Manisha Chawla\n",
        "\n",
        "## ID: P25CS002\n",
        "\n",
        "## TPL616: Advanced Programming for DSAI\n",
        "\n",
        "## Lab-4: Practice Problems (Pandas)"
      ],
      "metadata": {
        "id": "ylC1dSWdHP6d"
      }
    },
    {
      "cell_type": "markdown",
      "source": [
        "# Problems Set-2:"
      ],
      "metadata": {
        "id": "BZ0_Nv9aQHXP"
      }
    },
    {
      "cell_type": "markdown",
      "source": [
        "Use the Titanic dataset to solve the following tasks:\n",
        "\n",
        "Step 1: Load Data\n",
        "\n",
        "● Load the Titanic.csv file into a pandas DataFrame.\n",
        "\n",
        "● Display dataset info, shape, and first 5 rows."
      ],
      "metadata": {
        "id": "oJ6kfQM1Pqhu"
      }
    },
    {
      "cell_type": "code",
      "source": [
        "import pandas as pd\n",
        "df_titanic = pd.read_csv('Titanic.csv')\n",
        "print(\"Dataset Info:\")\n",
        "print(df_titanic.info())\n"
      ],
      "metadata": {
        "colab": {
          "base_uri": "https://localhost:8080/"
        },
        "id": "Bp33zZDxHUNN",
        "outputId": "a8dbe9d9-8e2e-4919-8321-4d0629977566"
      },
      "execution_count": 1,
      "outputs": [
        {
          "output_type": "stream",
          "name": "stdout",
          "text": [
            "Dataset Info:\n",
            "<class 'pandas.core.frame.DataFrame'>\n",
            "RangeIndex: 418 entries, 0 to 417\n",
            "Data columns (total 11 columns):\n",
            " #   Column       Non-Null Count  Dtype  \n",
            "---  ------       --------------  -----  \n",
            " 0   PassengerId  418 non-null    int64  \n",
            " 1   Pclass       418 non-null    int64  \n",
            " 2   Name         418 non-null    object \n",
            " 3   Sex          418 non-null    object \n",
            " 4   Age          332 non-null    float64\n",
            " 5   SibSp        418 non-null    int64  \n",
            " 6   Parch        418 non-null    int64  \n",
            " 7   Ticket       418 non-null    object \n",
            " 8   Fare         417 non-null    float64\n",
            " 9   Cabin        91 non-null     object \n",
            " 10  Embarked     418 non-null    object \n",
            "dtypes: float64(2), int64(4), object(5)\n",
            "memory usage: 36.1+ KB\n",
            "None\n"
          ]
        }
      ]
    },
    {
      "cell_type": "code",
      "source": [
        "print(\"Dataset Shape:\")\n",
        "print(df_titanic.shape)\n"
      ],
      "metadata": {
        "colab": {
          "base_uri": "https://localhost:8080/"
        },
        "id": "YSyW66icIU-e",
        "outputId": "302d1ee4-2f74-4ab1-b064-cfd9c0178407"
      },
      "execution_count": 2,
      "outputs": [
        {
          "output_type": "stream",
          "name": "stdout",
          "text": [
            "Dataset Shape:\n",
            "(418, 11)\n"
          ]
        }
      ]
    },
    {
      "cell_type": "code",
      "source": [
        "print(\"First 5 Rows:\")\n",
        "print(df_titanic.head())"
      ],
      "metadata": {
        "colab": {
          "base_uri": "https://localhost:8080/"
        },
        "id": "MENJZmUEIWf-",
        "outputId": "e56d04d5-2aae-4c52-b2f0-1f45f67c21fa"
      },
      "execution_count": 3,
      "outputs": [
        {
          "output_type": "stream",
          "name": "stdout",
          "text": [
            "First 5 Rows:\n",
            "   PassengerId  Pclass                                          Name     Sex  \\\n",
            "0          892       3                              Kelly, Mr. James    male   \n",
            "1          893       3              Wilkes, Mrs. James (Ellen Needs)  female   \n",
            "2          894       2                     Myles, Mr. Thomas Francis    male   \n",
            "3          895       3                              Wirz, Mr. Albert    male   \n",
            "4          896       3  Hirvonen, Mrs. Alexander (Helga E Lindqvist)  female   \n",
            "\n",
            "    Age  SibSp  Parch   Ticket     Fare Cabin Embarked  \n",
            "0  34.5      0      0   330911   7.8292   NaN        Q  \n",
            "1  47.0      1      0   363272   7.0000   NaN        S  \n",
            "2  62.0      0      0   240276   9.6875   NaN        Q  \n",
            "3  27.0      0      0   315154   8.6625   NaN        S  \n",
            "4  22.0      1      1  3101298  12.2875   NaN        S  \n"
          ]
        }
      ]
    },
    {
      "cell_type": "markdown",
      "source": [
        "Step 2: Handle Missing Values\n",
        "\n",
        "● Fill missing Age values with the median Age.\n",
        "\n",
        "● Drop the Cabin column (too many missing values)."
      ],
      "metadata": {
        "id": "TEQqiHkSIwjN"
      }
    },
    {
      "cell_type": "code",
      "source": [
        "median_age = df_titanic['Age'].median()\n",
        "df_titanic['Age'] = df_titanic['Age'].fillna(median_age)\n",
        "df_titanic = df_titanic.drop(columns=['Cabin'])\n",
        "print(df_titanic.head())"
      ],
      "metadata": {
        "colab": {
          "base_uri": "https://localhost:8080/"
        },
        "id": "qGzWGu4MI6-9",
        "outputId": "ec090235-e994-4674-d89c-238b979b7fde"
      },
      "execution_count": 4,
      "outputs": [
        {
          "output_type": "stream",
          "name": "stdout",
          "text": [
            "   PassengerId  Pclass                                          Name     Sex  \\\n",
            "0          892       3                              Kelly, Mr. James    male   \n",
            "1          893       3              Wilkes, Mrs. James (Ellen Needs)  female   \n",
            "2          894       2                     Myles, Mr. Thomas Francis    male   \n",
            "3          895       3                              Wirz, Mr. Albert    male   \n",
            "4          896       3  Hirvonen, Mrs. Alexander (Helga E Lindqvist)  female   \n",
            "\n",
            "    Age  SibSp  Parch   Ticket     Fare Embarked  \n",
            "0  34.5      0      0   330911   7.8292        Q  \n",
            "1  47.0      1      0   363272   7.0000        S  \n",
            "2  62.0      0      0   240276   9.6875        Q  \n",
            "3  27.0      0      0   315154   8.6625        S  \n",
            "4  22.0      1      1  3101298  12.2875        S  \n"
          ]
        }
      ]
    },
    {
      "cell_type": "markdown",
      "source": [
        "Step 3: Detect Outliers\n",
        "\n",
        "● Detect outliers in the Fare column using:\n",
        "\n",
        "1. Z-score method (|Z| > 3)\n",
        "\n",
        "2. IQR method (outside [Q1 − 1.5×IQR, Q3 + 1.5×IQR])\n",
        "\n",
        "● Create a new column Outlier_Fare = True/False"
      ],
      "metadata": {
        "id": "vfrPhAFdJbot"
      }
    },
    {
      "cell_type": "code",
      "source": [
        "from scipy.stats import zscore\n",
        "df_titanic['Fare_zscore'] = zscore(df_titanic['Fare'])\n",
        "df_titanic['Outlier_Fare_Z'] = df_titanic['Fare_zscore'].abs() > 3\n",
        "print(df_titanic.head())"
      ],
      "metadata": {
        "colab": {
          "base_uri": "https://localhost:8080/"
        },
        "id": "MnRONKjeJipG",
        "outputId": "6ee744e6-1b9b-4ee4-f2ed-d9e51fe3c67f"
      },
      "execution_count": 5,
      "outputs": [
        {
          "output_type": "stream",
          "name": "stdout",
          "text": [
            "   PassengerId  Pclass                                          Name     Sex  \\\n",
            "0          892       3                              Kelly, Mr. James    male   \n",
            "1          893       3              Wilkes, Mrs. James (Ellen Needs)  female   \n",
            "2          894       2                     Myles, Mr. Thomas Francis    male   \n",
            "3          895       3                              Wirz, Mr. Albert    male   \n",
            "4          896       3  Hirvonen, Mrs. Alexander (Helga E Lindqvist)  female   \n",
            "\n",
            "    Age  SibSp  Parch   Ticket     Fare Embarked  Fare_zscore  Outlier_Fare_Z  \n",
            "0  34.5      0      0   330911   7.8292        Q          NaN           False  \n",
            "1  47.0      1      0   363272   7.0000        S          NaN           False  \n",
            "2  62.0      0      0   240276   9.6875        Q          NaN           False  \n",
            "3  27.0      0      0   315154   8.6625        S          NaN           False  \n",
            "4  22.0      1      1  3101298  12.2875        S          NaN           False  \n"
          ]
        }
      ]
    },
    {
      "cell_type": "code",
      "source": [
        "# IQR method\n",
        "Q1 = df_titanic['Fare'].quantile(0.25)\n",
        "Q3 = df_titanic['Fare'].quantile(0.75)\n",
        "IQR = Q3-Q1\n",
        "\n",
        "lower_bound = Q1-1.5*IQR\n",
        "upper_bound = Q3+1.5*IQR\n",
        "\n",
        "df_titanic['Outlier_Fare_IQR']=(df_titanic['Fare'] < lower_bound) | (df_titanic['Fare'] > upper_bound)\n",
        "print(df_titanic.head())\n",
        "\n"
      ],
      "metadata": {
        "colab": {
          "base_uri": "https://localhost:8080/"
        },
        "id": "J1nAv5qrKDv2",
        "outputId": "33d67899-66b4-4c51-b0d3-53f2c147d22f"
      },
      "execution_count": 6,
      "outputs": [
        {
          "output_type": "stream",
          "name": "stdout",
          "text": [
            "   PassengerId  Pclass                                          Name     Sex  \\\n",
            "0          892       3                              Kelly, Mr. James    male   \n",
            "1          893       3              Wilkes, Mrs. James (Ellen Needs)  female   \n",
            "2          894       2                     Myles, Mr. Thomas Francis    male   \n",
            "3          895       3                              Wirz, Mr. Albert    male   \n",
            "4          896       3  Hirvonen, Mrs. Alexander (Helga E Lindqvist)  female   \n",
            "\n",
            "    Age  SibSp  Parch   Ticket     Fare Embarked  Fare_zscore  Outlier_Fare_Z  \\\n",
            "0  34.5      0      0   330911   7.8292        Q          NaN           False   \n",
            "1  47.0      1      0   363272   7.0000        S          NaN           False   \n",
            "2  62.0      0      0   240276   9.6875        Q          NaN           False   \n",
            "3  27.0      0      0   315154   8.6625        S          NaN           False   \n",
            "4  22.0      1      1  3101298  12.2875        S          NaN           False   \n",
            "\n",
            "   Outlier_Fare_IQR  \n",
            "0             False  \n",
            "1             False  \n",
            "2             False  \n",
            "3             False  \n",
            "4             False  \n"
          ]
        }
      ]
    },
    {
      "cell_type": "markdown",
      "source": [],
      "metadata": {
        "id": "yyMw6W9mHPTG"
      }
    },
    {
      "cell_type": "code",
      "source": [
        "# Combine results into a single column\n",
        "df_titanic['Outlier_Fare'] = df_titanic['Outlier_Fare_Z'] | df_titanic['Outlier_Fare_IQR']\n",
        "df_titanic = df_titanic.drop(columns=['Fare_zscore'])\n",
        "df_titanic = df_titanic.drop(columns=['Outlier_Fare_Z'])\n",
        "df_titanic = df_titanic.drop(columns=['Outlier_Fare_IQR'])\n",
        "print(df_titanic.head())"
      ],
      "metadata": {
        "colab": {
          "base_uri": "https://localhost:8080/"
        },
        "id": "ea2F9SEpKLbO",
        "outputId": "cd9f97a5-5b40-4966-bbb2-ec1c9ba97e73"
      },
      "execution_count": 7,
      "outputs": [
        {
          "output_type": "stream",
          "name": "stdout",
          "text": [
            "   PassengerId  Pclass                                          Name     Sex  \\\n",
            "0          892       3                              Kelly, Mr. James    male   \n",
            "1          893       3              Wilkes, Mrs. James (Ellen Needs)  female   \n",
            "2          894       2                     Myles, Mr. Thomas Francis    male   \n",
            "3          895       3                              Wirz, Mr. Albert    male   \n",
            "4          896       3  Hirvonen, Mrs. Alexander (Helga E Lindqvist)  female   \n",
            "\n",
            "    Age  SibSp  Parch   Ticket     Fare Embarked  Outlier_Fare  \n",
            "0  34.5      0      0   330911   7.8292        Q         False  \n",
            "1  47.0      1      0   363272   7.0000        S         False  \n",
            "2  62.0      0      0   240276   9.6875        Q         False  \n",
            "3  27.0      0      0   315154   8.6625        S         False  \n",
            "4  22.0      1      1  3101298  12.2875        S         False  \n"
          ]
        }
      ]
    },
    {
      "cell_type": "code",
      "source": [
        "print(df_titanic[['Fare', 'Outlier_Fare']].head(10))\n",
        "print(\"\\nNumber of Fare outliers:\", df_titanic['Outlier_Fare'].sum())"
      ],
      "metadata": {
        "colab": {
          "base_uri": "https://localhost:8080/"
        },
        "id": "DhDS8UTJNob_",
        "outputId": "5a31c686-983e-4207-ad96-b0ee7e45b58e"
      },
      "execution_count": 8,
      "outputs": [
        {
          "output_type": "stream",
          "name": "stdout",
          "text": [
            "      Fare  Outlier_Fare\n",
            "0   7.8292         False\n",
            "1   7.0000         False\n",
            "2   9.6875         False\n",
            "3   8.6625         False\n",
            "4  12.2875         False\n",
            "5   9.2250         False\n",
            "6   7.6292         False\n",
            "7  29.0000         False\n",
            "8   7.2292         False\n",
            "9  24.1500         False\n",
            "\n",
            "Number of Fare outliers: 55\n"
          ]
        }
      ]
    },
    {
      "cell_type": "markdown",
      "source": [
        "Step 4: Use a Pipeline\n",
        "\n",
        "● Create functions:\n",
        "\n",
        "○ handle_missing(df) → handles missing values\n",
        "\n",
        "○ detect_outliers(df) → detects outliers in Fare\n",
        "\n",
        "○ summarize(df) → returns average Age, average Fare, and survival\n",
        "rate\n",
        "\n",
        "● Apply them in a pipeline:"
      ],
      "metadata": {
        "id": "31naetiFLGUY"
      }
    },
    {
      "cell_type": "code",
      "source": [
        "# handle missing values\n",
        "def handle_missing(df):\n",
        "    df['Age'] = df['Age'].fillna(df['Age'].median())\n",
        "    if 'Cabin' in df.columns:\n",
        "        df = df.drop(columns=['Cabin'])\n",
        "    return df\n",
        "\n",
        "# detect outliers in Fare\n",
        "def detect_outliers(df):\n",
        "    # Z-score method\n",
        "    df['Fare_zscore'] = zscore(df['Fare'])\n",
        "    df['Outlier_Fare_Z'] = df['Fare_zscore'].abs() > 3\n",
        "\n",
        "    # IQR method\n",
        "    Q1 = df['Fare'].quantile(0.25)\n",
        "    Q3 = df['Fare'].quantile(0.75)\n",
        "    IQR = Q3-Q1\n",
        "    lower_bound = Q1-1.5*IQR\n",
        "    upper_bound = Q3+1.5*IQR\n",
        "    df['Outlier_Fare_IQR'] = (df['Fare'] < lower_bound) | (df['Fare'] > upper_bound)\n",
        "\n",
        "    # Combine into one column\n",
        "    df['Outlier_Fare'] = df['Outlier_Fare_Z'] | df['Outlier_Fare_IQR']\n",
        "    df = df.drop(columns=['Fare_zscore'])\n",
        "    df = df.drop(columns=['Outlier_Fare_Z'])\n",
        "    df = df.drop(columns=['Outlier_Fare_IQR'])\n",
        "    return df\n",
        "\n",
        "# summarize key statistics\n",
        "def summarize(df):\n",
        "    avg_age = df['Age'].mean()\n",
        "    avg_fare = df['Fare'].mean()\n",
        "    summary = {\n",
        "        'Average Age': avg_age,\n",
        "        'Average Fare': avg_fare\n",
        "    }\n",
        "    return summary"
      ],
      "metadata": {
        "id": "1YL5NqpILIsC"
      },
      "execution_count": 9,
      "outputs": []
    },
    {
      "cell_type": "code",
      "source": [
        "# Apply pipeline\n",
        "df_titanic = handle_missing(df_titanic)\n",
        "df_titanic = detect_outliers(df_titanic)\n",
        "summary_stats = summarize(df_titanic)\n",
        "print(\"Summary Statistics:\", summary_stats)"
      ],
      "metadata": {
        "colab": {
          "base_uri": "https://localhost:8080/"
        },
        "id": "rmO8GGliPgTg",
        "outputId": "3a54dd35-67cf-4c06-8250-ae9724926c7d"
      },
      "execution_count": 10,
      "outputs": [
        {
          "output_type": "stream",
          "name": "stdout",
          "text": [
            "Summary Statistics: {'Average Age': np.float64(29.599282296650717), 'Average Fare': np.float64(35.627188489208635)}\n"
          ]
        }
      ]
    }
  ]
}