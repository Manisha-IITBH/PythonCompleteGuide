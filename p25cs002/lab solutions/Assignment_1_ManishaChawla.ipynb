{
  "cells": [
    {
      "cell_type": "markdown",
      "metadata": {
        "id": "NUqwKV_YSVKo"
      },
      "source": [
        "## Name: Manisha Chawla\n",
        "\n",
        "## ID: P25CS002\n",
        "\n",
        "## TPL616: Advanced Programming for DSAI\n",
        "\n",
        "## Assignment-1"
      ]
    },
    {
      "cell_type": "markdown",
      "metadata": {
        "id": "Er5DA93D6QY3"
      },
      "source": [
        "### References: Took Help from some references\n",
        "\n",
        "[Official Python documentation](https://docs.python.org/3/tutorial/index.html)\n",
        "\n",
        "[W3school](https://www.w3schools.com/python/ref_keyword_lambda.asp)\n",
        "\n",
        "[Videos](https://www.google.com/search?q=python+tut&rlz=1C1ONGR_enIN976IN976&oq=python+tut&gs_lcrp=EgZjaHJvbWUyDggAEEUYFBg5GIcCGIAEMgYIARBFGEAyDAgCECMYJxiABBiKBTIQCAMQABiRAhixAxiABBiKBTINCAQQABiRAhiABBiKBTIHCAUQABiABDINCAYQABiRAhiABBiKBTIGCAcQBRhA0gEINTg3NGowajeoAgiwAgHxBT9DB9NFfpq6&sourceid=chrome&ie=UTF-8#fpstate=ive&vld=cid:98532880,vid:K5KVEU3aaeQ,st:0)"
      ]
    },
    {
      "cell_type": "markdown",
      "metadata": {
        "id": "j4dFPbFyfz-h"
      },
      "source": [
        "# Problem Statement\n",
        "\n",
        "IIT Bhilai maintains academic records for students and departments. In this assignment, you are required to OOPS and Numpy concepts to analyze the performance at both student and department levels.\n",
        "\n",
        "Design 3 classes with the following details."
      ]
    },
    {
      "cell_type": "markdown",
      "metadata": {
        "id": "iTdM92AnfyLp"
      },
      "source": []
    },
    {
      "cell_type": "markdown",
      "metadata": {
        "id": "H-0xuVMBShV9"
      },
      "source": [
        "1. Student Class\n",
        "\n",
        "    Attributes:\n",
        "      - name (str)\n",
        "      - roll_number (int)\n",
        "      - scores (NumPy array of subject marks)\n",
        "  \n",
        "    Methods:\n",
        "      - average() → returns average marks using NumPy.\n",
        "      - highest_score() → highest mark.\n",
        "      - lowest_score() → lowest mark.\n",
        "      - standard_deviation() → returns score variability.\n",
        "      - __gt__ → compare students by average score."
      ]
    },
    {
      "cell_type": "code",
      "execution_count": 1,
      "metadata": {
        "id": "KeIlQlZZTIkk"
      },
      "outputs": [],
      "source": [
        "import numpy as np"
      ]
    },
    {
      "cell_type": "code",
      "execution_count": null,
      "metadata": {
        "id": "fx-AYKm-SVm5"
      },
      "outputs": [],
      "source": [
        "class Student:\n",
        "    def __init__(self, name, roll_number, scores):\n",
        "        self.name = name\n",
        "        self.roll_number = roll_number  #int\n",
        "        self.scores = scores #NumpyArray\n",
        "\n",
        "    def average(self):\n",
        "        return np.mean(self.scores)\n",
        "\n",
        "    def highest_score(self):\n",
        "        return np.max(self.scores)\n",
        "\n",
        "    def lowest_score(self):\n",
        "        return np.min(self.scores)\n",
        "\n",
        "    def standard_deviation(self):\n",
        "        return np.std(self.scores)\n",
        "\n",
        "    def __gt__(self, other):                    #print(s1 > s2) it will automatically cal; this\n",
        "        return self.average() > other.average() \n",
        "\n",
        "    def __repr__(self):\n",
        "        return f\"Name: {self.name} Roll No: {self.roll_number} Scores: {self.scores}\""
      ]
    },
    {
      "cell_type": "markdown",
      "metadata": {
        "id": "ntBJ-cCXTcPr"
      },
      "source": [
        "2. Department Class\n",
        "\n",
        "    Attributes:\n",
        "    - name (str)\n",
        "    - students (list of Student objects)\n",
        "\n",
        "    Methods:\n",
        "    - add_student(student) → adds student.\n",
        "    - department_average() → returns subject-wise average across all students.\n",
        "    - topper() → returns the student with the highest average.\n",
        "    - weakest_subject() → returns subject index with lowest average score.\n",
        "    - rank_students() → returns students sorted by average score."
      ]
    },
    {
      "cell_type": "code",
      "execution_count": 3,
      "metadata": {
        "id": "vVvpCnpvSVxD"
      },
      "outputs": [],
      "source": [
        "class Department:\n",
        "    def __init__(self, name):\n",
        "        self.name = name\n",
        "        self.students = []\n",
        "\n",
        "    def add_student(self, student):\n",
        "        self.students.append(student)\n",
        "\n",
        "    def department_average(self):\n",
        "        \"\"\"Returns subject-wise average across all students.\"\"\"\n",
        "        if not self.students:\n",
        "            return np.array([])\n",
        "        all_dept_scores = np.array([student.scores for student in self.students])\n",
        "        return np.mean(all_dept_scores, axis=0)\n",
        "\n",
        "    def topper(self):\n",
        "        \"\"\"Returns the student with the highest average.\"\"\"\n",
        "        if not self.students:\n",
        "            return None\n",
        "        return max(self.students, key=lambda student: student.average())\n",
        "\n",
        "    def weakest_subject(self):\n",
        "        \"\"\"Returns the subject index with lowest average score.\"\"\"\n",
        "        averages = self.department_average()\n",
        "        if averages.size == 0:\n",
        "            return None\n",
        "        return np.argmin(averages)  # Index starts from 0\n",
        "\n",
        "    def rank_students(self):\n",
        "        \"\"\"Returns students sorted by average score in descending order.\"\"\"\n",
        "        return sorted(self.students, key=lambda student: student.average(), reverse=True) #From high score to low"
      ]
    },
    {
      "cell_type": "markdown",
      "metadata": {
        "id": "90Cf49cnT5aT"
      },
      "source": [
        "3. Institute Class\n",
        "\n",
        "    Attributes:\n",
        "    - departments (list of Department objects)\n",
        "\n",
        "    Methods:\n",
        "    - add_department(dept)\n",
        "    - institute_average() → subject-wise average across all departments.\n",
        "    - best_department() → department with highest average.\n",
        "    - overall_topper() → best student in the institute."
      ]
    },
    {
      "cell_type": "code",
      "execution_count": 4,
      "metadata": {
        "id": "n_IuoKudSV0a"
      },
      "outputs": [],
      "source": [
        "class Institute:\n",
        "    def __init__(self):\n",
        "        self.departments = []\n",
        "\n",
        "    def add_department(self, dept):\n",
        "        self.departments.append(dept)\n",
        "\n",
        "    def institute_average(self):\n",
        "        \"\"\"Returns subject-wise average across all departments.\"\"\"\n",
        "        all_scores = []\n",
        "        for dept in self.departments:\n",
        "            for student in dept.students:\n",
        "                all_scores.append(student.scores)\n",
        "\n",
        "        if not all_scores:\n",
        "            return np.array([])\n",
        "\n",
        "        all_scores = np.array(all_scores)\n",
        "        return np.mean(all_scores, axis=0)\n",
        "\n",
        "    def best_department(self):\n",
        "        \"\"\"Retunrns department with highest average.\"\"\"\n",
        "        if not self.departments:\n",
        "            return None\n",
        "        best_dept = max(self.departments, key=lambda dept: np.mean(dept.department_average()))\n",
        "        return best_dept\n",
        "\n",
        "    def overall_topper(self):\n",
        "        \"\"\"Returns best student in the institute.\"\"\"\n",
        "        all_students = []\n",
        "        for dept in self.departments:\n",
        "            all_students.extend(dept.students)\n",
        "\n",
        "        if not all_students:\n",
        "            return None\n",
        "\n",
        "        return max(all_students, key=lambda student: student.average())\n",
        "\n",
        "    def find_student_by_roll(self, roll_number):\n",
        "        \"\"\"Search for a student by roll number across the institute.\"\"\"\n",
        "        for dept in self.departments:\n",
        "            for student in dept.students:\n",
        "                if student.roll_number == roll_number:\n",
        "                    return student\n",
        "        return None"
      ]
    },
    {
      "cell_type": "markdown",
      "metadata": {
        "id": "eKTy4WBZUZNF"
      },
      "source": [
        "2. Performs the following tasks using the above 3 classes.\n",
        "\n",
        "    1. Create 3 departments (e.g., CS, EE, ME)."
      ]
    },
    {
      "cell_type": "code",
      "execution_count": 5,
      "metadata": {
        "id": "A2qHIufnY6eY"
      },
      "outputs": [],
      "source": [
        "cs = Department(\"CS\")\n",
        "ee = Department(\"EE\")\n",
        "me = Department(\"ME\")"
      ]
    },
    {
      "cell_type": "markdown",
      "metadata": {
        "id": "0lsx27Gta_r7"
      },
      "source": [
        "2. Add at least 5 students per department, each having scores in 6 subjects (NumPy\n",
        "arrays)."
      ]
    },
    {
      "cell_type": "code",
      "execution_count": 6,
      "metadata": {
        "id": "IPWLsgtbbDFT"
      },
      "outputs": [],
      "source": [
        "def create_students(dept, start_roll):\n",
        "    for i in range(5):\n",
        "        name = f\"{dept.name}_s_{i+1}\"\n",
        "        roll_number = start_roll + i\n",
        "        scores = np.random.randint(40, 101, size=6)  # Scores between 40 and 100 for 6 subjects\n",
        "        student = Student(name, roll_number, scores)\n",
        "        dept.add_student(student)\n",
        "create_students(cs, 100)\n",
        "create_students(ee, 200)\n",
        "create_students(me, 300)\n",
        "\n",
        "\n",
        "# create institute\n",
        "institute = Institute()\n",
        "# Add departments to institute\n",
        "institute.add_department(cs)\n",
        "institute.add_department(ee)\n",
        "institute.add_department(me)\n"
      ]
    },
    {
      "cell_type": "markdown",
      "metadata": {
        "id": "7uyXqokJbqCE"
      },
      "source": [
        "3. Perform analyses:\n",
        "\n",
        "- Print each student’s average, highest, lowest, and std deviation."
      ]
    },
    {
      "cell_type": "code",
      "execution_count": 7,
      "metadata": {
        "colab": {
          "base_uri": "https://localhost:8080/"
        },
        "id": "hhjYM_CFbuoG",
        "outputId": "a5b2bd26-43fd-48da-a83b-cdecb21a2ea5"
      },
      "outputs": [
        {
          "name": "stdout",
          "output_type": "stream",
          "text": [
            "\n",
            "Department: CS\n",
            "CS_s_1:\n",
            "  Average: 73.00\n",
            "  Highest Score: 99\n",
            "  Lowest Score: 48\n",
            "  Std Deviation: 20.71\n",
            "CS_s_2:\n",
            "  Average: 82.17\n",
            "  Highest Score: 99\n",
            "  Lowest Score: 66\n",
            "  Std Deviation: 12.89\n",
            "CS_s_3:\n",
            "  Average: 62.17\n",
            "  Highest Score: 71\n",
            "  Lowest Score: 51\n",
            "  Std Deviation: 7.92\n",
            "CS_s_4:\n",
            "  Average: 68.50\n",
            "  Highest Score: 100\n",
            "  Lowest Score: 48\n",
            "  Std Deviation: 18.87\n",
            "CS_s_5:\n",
            "  Average: 72.00\n",
            "  Highest Score: 91\n",
            "  Lowest Score: 44\n",
            "  Std Deviation: 16.62\n",
            "\n",
            "Department: EE\n",
            "EE_s_1:\n",
            "  Average: 61.00\n",
            "  Highest Score: 98\n",
            "  Lowest Score: 42\n",
            "  Std Deviation: 18.73\n",
            "EE_s_2:\n",
            "  Average: 66.17\n",
            "  Highest Score: 100\n",
            "  Lowest Score: 46\n",
            "  Std Deviation: 20.79\n",
            "EE_s_3:\n",
            "  Average: 76.67\n",
            "  Highest Score: 93\n",
            "  Lowest Score: 45\n",
            "  Std Deviation: 15.17\n",
            "EE_s_4:\n",
            "  Average: 68.67\n",
            "  Highest Score: 88\n",
            "  Lowest Score: 54\n",
            "  Std Deviation: 11.47\n",
            "EE_s_5:\n",
            "  Average: 69.67\n",
            "  Highest Score: 81\n",
            "  Lowest Score: 49\n",
            "  Std Deviation: 10.37\n",
            "\n",
            "Department: ME\n",
            "ME_s_1:\n",
            "  Average: 64.50\n",
            "  Highest Score: 86\n",
            "  Lowest Score: 42\n",
            "  Std Deviation: 13.82\n",
            "ME_s_2:\n",
            "  Average: 80.17\n",
            "  Highest Score: 99\n",
            "  Lowest Score: 66\n",
            "  Std Deviation: 10.16\n",
            "ME_s_3:\n",
            "  Average: 62.17\n",
            "  Highest Score: 74\n",
            "  Lowest Score: 45\n",
            "  Std Deviation: 10.64\n",
            "ME_s_4:\n",
            "  Average: 62.67\n",
            "  Highest Score: 94\n",
            "  Lowest Score: 48\n",
            "  Std Deviation: 16.19\n",
            "ME_s_5:\n",
            "  Average: 63.00\n",
            "  Highest Score: 99\n",
            "  Lowest Score: 40\n",
            "  Std Deviation: 21.23\n"
          ]
        }
      ],
      "source": [
        "for dept in institute.departments:\n",
        "    print(f\"\\nDepartment: {dept.name}\")\n",
        "    for student in dept.students:\n",
        "        print(f\"{student.name}:\")\n",
        "        print(f\"  Average: {student.average():.2f}\")\n",
        "        print(f\"  Highest Score: {student.highest_score()}\")\n",
        "        print(f\"  Lowest Score: {student.lowest_score()}\")\n",
        "        print(f\"  Std Deviation: {student.standard_deviation():.2f}\")"
      ]
    },
    {
      "cell_type": "markdown",
      "metadata": {
        "id": "WNdcN1ehcRZA"
      },
      "source": [
        "Department-level:\n",
        "\n",
        "- Show subject-wise average.\n",
        "- Find the topper of the department.\n",
        "- Rank students."
      ]
    },
    {
      "cell_type": "code",
      "execution_count": 8,
      "metadata": {
        "colab": {
          "base_uri": "https://localhost:8080/"
        },
        "id": "lcgPQ7tPUbK-",
        "outputId": "bdda4aa8-47a5-435d-9362-72bb7d91f940"
      },
      "outputs": [
        {
          "name": "stdout",
          "output_type": "stream",
          "text": [
            "\n",
            "Department: CS\n",
            "  Subject-wise Average: [64.4 77.2 63.6 68.4 72.4 83.4]\n",
            "  Topper: Name: CS_s_2 Roll No: 101 Scores: [66 99 73 73 83 99]\n",
            "  Weakest Subject Index: 2\n",
            "  Ranked Students:\n",
            "    CS_s_2 : average 82.17\n",
            "    CS_s_1 : average 73.00\n",
            "    CS_s_5 : average 72.00\n",
            "    CS_s_4 : average 68.50\n",
            "    CS_s_3 : average 62.17\n",
            "\n",
            "Department: EE\n",
            "  Subject-wise Average: [63.8 70.6 78.6 72.8 64.8 60. ]\n",
            "  Topper: Name: EE_s_3 Roll No: 202 Scores: [93 85 82 45 75 80]\n",
            "  Weakest Subject Index: 5\n",
            "  Ranked Students:\n",
            "    EE_s_3 : average 76.67\n",
            "    EE_s_5 : average 69.67\n",
            "    EE_s_4 : average 68.67\n",
            "    EE_s_2 : average 66.17\n",
            "    EE_s_1 : average 61.00\n",
            "\n",
            "Department: ME\n",
            "  Subject-wise Average: [67.8 65.  64.8 76.8 59.2 65.4]\n",
            "  Topper: Name: ME_s_2 Roll No: 301 Scores: [99 81 77 66 84 74]\n",
            "  Weakest Subject Index: 4\n",
            "  Ranked Students:\n",
            "    ME_s_2 : average 80.17\n",
            "    ME_s_1 : average 64.50\n",
            "    ME_s_5 : average 63.00\n",
            "    ME_s_4 : average 62.67\n",
            "    ME_s_3 : average 62.17\n"
          ]
        }
      ],
      "source": [
        "for dept in institute.departments:\n",
        "    print(f\"\\nDepartment: {dept.name}\")\n",
        "    print(f\"  Subject-wise Average: {dept.department_average()}\")\n",
        "    print(f\"  Topper: {dept.topper()}\")\n",
        "    print(f\"  Weakest Subject Index: {dept.weakest_subject()}\")\n",
        "    print(f\"  Ranked Students:\")\n",
        "    for s in dept.rank_students():\n",
        "        print(f\"    {s.name} : average {s.average():.2f}\")"
      ]
    },
    {
      "cell_type": "markdown",
      "metadata": {
        "id": "JUMcP2XKc82X"
      },
      "source": [
        "Institute-level:\n",
        "\n",
        "- Find overall subject averages.\n",
        "- Find the best department.\n",
        "- Find overall topper."
      ]
    },
    {
      "cell_type": "code",
      "execution_count": 9,
      "metadata": {
        "colab": {
          "base_uri": "https://localhost:8080/"
        },
        "id": "OrUTeonna-Si",
        "outputId": "445cb8bf-67e2-40df-9c49-61c8240924c8"
      },
      "outputs": [
        {
          "name": "stdout",
          "output_type": "stream",
          "text": [
            "Subject-wise Average: [65.33333333 70.93333333 69.         72.66666667 65.46666667 69.6       ]\n",
            "Best Department: CS\n",
            "Overall Topper: Name: CS_s_2 Roll No: 101 Scores: [66 99 73 73 83 99]\n"
          ]
        }
      ],
      "source": [
        "print(f\"Subject-wise Average: {institute.institute_average()}\")\n",
        "print(f\"Best Department: {institute.best_department().name}\")\n",
        "print(f\"Overall Topper: {institute.overall_topper()}\")"
      ]
    },
    {
      "cell_type": "markdown",
      "metadata": {
        "id": "djwFm5-3dS-b"
      },
      "source": [
        "4. Implement a search method to find a student by roll number across the institute."
      ]
    },
    {
      "cell_type": "code",
      "execution_count": 10,
      "metadata": {
        "colab": {
          "base_uri": "https://localhost:8080/"
        },
        "id": "6KPT10GsdDvp",
        "outputId": "36b353b8-14eb-4faf-b143-a5f047dd7dd6"
      },
      "outputs": [
        {
          "name": "stdout",
          "output_type": "stream",
          "text": [
            "Student with roll 202 found,Name: EE_s_3\n"
          ]
        }
      ],
      "source": [
        "search_roll = 202\n",
        "student_found = institute.find_student_by_roll(search_roll)\n",
        "if student_found:\n",
        "    print(f\"Student with roll no. {search_roll} found,Name: {student_found.name}\")\n",
        "else:\n",
        "    print(f\"Student with roll no. {search_roll} not found.\")"
      ]
    },
    {
      "cell_type": "code",
      "execution_count": 11,
      "metadata": {
        "colab": {
          "base_uri": "https://localhost:8080/"
        },
        "id": "3UV3KVd-7BsP",
        "outputId": "4d90a4f8-3079-4a00-e118-f464a6bd869f"
      },
      "outputs": [
        {
          "name": "stdout",
          "output_type": "stream",
          "text": [
            "Student with roll 501 not found.\n"
          ]
        }
      ],
      "source": [
        "search_roll = 501\n",
        "student_found = institute.find_student_by_roll(search_roll)\n",
        "if student_found:\n",
        "    print(f\"Student with roll no. {search_roll} found,Name: {student_found.name}\")\n",
        "else:\n",
        "    print(f\"Student with roll no. {search_roll} not found.\")"
      ]
    },
    {
      "cell_type": "code",
      "execution_count": null,
      "metadata": {
        "id": "60g4R9Ma7DEl"
      },
      "outputs": [],
      "source": []
    }
  ],
  "metadata": {
    "colab": {
      "provenance": []
    },
    "kernelspec": {
      "display_name": "Python 3",
      "name": "python3"
    },
    "language_info": {
      "name": "python"
    }
  },
  "nbformat": 4,
  "nbformat_minor": 0
}
